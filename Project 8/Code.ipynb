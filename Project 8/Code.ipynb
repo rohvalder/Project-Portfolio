{
  "nbformat": 4,
  "nbformat_minor": 0,
  "metadata": {
    "colab": {
      "name": "Untitled6.ipynb",
      "provenance": []
    },
    "kernelspec": {
      "name": "python3",
      "display_name": "Python 3"
    },
    "language_info": {
      "name": "python"
    }
  },
  "cells": [
    {
      "cell_type": "code",
      "execution_count": 1,
      "metadata": {
        "id": "8N8QlB-BxTKb"
      },
      "outputs": [],
      "source": [
        "import pandas as pd\n",
        "import numpy as np\n",
        "import matplotlib.pyplot as plt\n",
        "\n",
        "import tensorflow as tf\n",
        "from tensorflow import keras\n",
        "from tensorflow.keras import layers\n",
        "from tensorflow.keras import models\n",
        "from pathlib import Path\n",
        "\n",
        "from zipfile import ZipFile\n",
        "\n",
        "import warnings\n",
        "warnings.filterwarnings(action='ignore')"
      ]
    },
    {
      "cell_type": "code",
      "source": [
        "rating = \"ratings.csv\""
      ],
      "metadata": {
        "id": "6cgQO2Qs6qga"
      },
      "execution_count": 5,
      "outputs": []
    },
    {
      "cell_type": "code",
      "source": [
        "df = pd.read_csv(rating)"
      ],
      "metadata": {
        "id": "FbpGfDmh62_w"
      },
      "execution_count": 6,
      "outputs": []
    },
    {
      "cell_type": "code",
      "source": [
        "# encode the users and movies as indices\n",
        "\n",
        "# for users\n",
        "user_id = df['userId'].unique().tolist()\n",
        "user_to_user_encoded = {x: i for i, x in enumerate(user_id)}\n",
        "user_encoded_to_user = {i: x for i, x in enumerate(user_id)}\n",
        "\n",
        "# for movies\n",
        "movie_id = df['movieId'].unique().tolist()\n",
        "movie_to_movie_encoded = {x: i for i, x in enumerate(movie_id)}\n",
        "movie_encoded_to_movie = {i: x for i, x in enumerate(movie_id)}\n",
        "\n",
        "# create a new column for user\n",
        "df['user'] = df['userId'].map(user_to_user_encoded)\n",
        "\n",
        "# create a new column for movie\n",
        "df['movie'] = df['movieId'].map(movie_to_movie_encoded)"
      ],
      "metadata": {
        "id": "2Al5YkW-6807"
      },
      "execution_count": 7,
      "outputs": []
    },
    {
      "cell_type": "code",
      "source": [
        "# check number of users and movie\n",
        "num_users = len(user_to_user_encoded)\n",
        "num_movies = len(movie_to_movie_encoded)"
      ],
      "metadata": {
        "id": "PNlsYdci7BWS"
      },
      "execution_count": 8,
      "outputs": []
    },
    {
      "cell_type": "code",
      "source": [
        "# convert rating to float32\n",
        "df['rating'] = df['rating'].values.astype(np.float32)"
      ],
      "metadata": {
        "id": "_dGpNM8e7FZ6"
      },
      "execution_count": 9,
      "outputs": []
    },
    {
      "cell_type": "code",
      "source": [
        "# create a min and max rating\n",
        "min_rating = min(df['rating'])\n",
        "max_rating = max(df['rating'])"
      ],
      "metadata": {
        "id": "nFNqcl7B7Jvw"
      },
      "execution_count": 10,
      "outputs": []
    },
    {
      "cell_type": "code",
      "source": [
        "# examine the data after preprocessing\n",
        "print('Number of users: {}'.format(num_users))\n",
        "print('Number of movies: {}'.format(num_movies))\n",
        "print('Min Rating: {}'.format(min_rating))\n",
        "print('Max Rating: {}'.format(max_rating))"
      ],
      "metadata": {
        "colab": {
          "base_uri": "https://localhost:8080/"
        },
        "id": "qDhfbU3i7Oya",
        "outputId": "1a4e19db-b7c5-4751-f04a-f70306786648"
      },
      "execution_count": 11,
      "outputs": [
        {
          "output_type": "stream",
          "name": "stdout",
          "text": [
            "Number of users: 610\n",
            "Number of movies: 9724\n",
            "Min Rating: 0.5\n",
            "Max Rating: 5.0\n"
          ]
        }
      ]
    },
    {
      "cell_type": "code",
      "source": [
        "df.head(10)"
      ],
      "metadata": {
        "colab": {
          "base_uri": "https://localhost:8080/",
          "height": 362
        },
        "id": "9BX3_nIq7YeK",
        "outputId": "9b7af5a7-ef7b-480e-a56a-b5fce32007bc"
      },
      "execution_count": 12,
      "outputs": [
        {
          "output_type": "execute_result",
          "data": {
            "text/plain": [
              "   userId  movieId  rating  timestamp  user  movie\n",
              "0       1        1     4.0  964982703     0      0\n",
              "1       1        3     4.0  964981247     0      1\n",
              "2       1        6     4.0  964982224     0      2\n",
              "3       1       47     5.0  964983815     0      3\n",
              "4       1       50     5.0  964982931     0      4\n",
              "5       1       70     3.0  964982400     0      5\n",
              "6       1      101     5.0  964980868     0      6\n",
              "7       1      110     4.0  964982176     0      7\n",
              "8       1      151     5.0  964984041     0      8\n",
              "9       1      157     5.0  964984100     0      9"
            ],
            "text/html": [
              "\n",
              "  <div id=\"df-c15387e6-146e-47b0-bf5c-1da88775a339\">\n",
              "    <div class=\"colab-df-container\">\n",
              "      <div>\n",
              "<style scoped>\n",
              "    .dataframe tbody tr th:only-of-type {\n",
              "        vertical-align: middle;\n",
              "    }\n",
              "\n",
              "    .dataframe tbody tr th {\n",
              "        vertical-align: top;\n",
              "    }\n",
              "\n",
              "    .dataframe thead th {\n",
              "        text-align: right;\n",
              "    }\n",
              "</style>\n",
              "<table border=\"1\" class=\"dataframe\">\n",
              "  <thead>\n",
              "    <tr style=\"text-align: right;\">\n",
              "      <th></th>\n",
              "      <th>userId</th>\n",
              "      <th>movieId</th>\n",
              "      <th>rating</th>\n",
              "      <th>timestamp</th>\n",
              "      <th>user</th>\n",
              "      <th>movie</th>\n",
              "    </tr>\n",
              "  </thead>\n",
              "  <tbody>\n",
              "    <tr>\n",
              "      <th>0</th>\n",
              "      <td>1</td>\n",
              "      <td>1</td>\n",
              "      <td>4.0</td>\n",
              "      <td>964982703</td>\n",
              "      <td>0</td>\n",
              "      <td>0</td>\n",
              "    </tr>\n",
              "    <tr>\n",
              "      <th>1</th>\n",
              "      <td>1</td>\n",
              "      <td>3</td>\n",
              "      <td>4.0</td>\n",
              "      <td>964981247</td>\n",
              "      <td>0</td>\n",
              "      <td>1</td>\n",
              "    </tr>\n",
              "    <tr>\n",
              "      <th>2</th>\n",
              "      <td>1</td>\n",
              "      <td>6</td>\n",
              "      <td>4.0</td>\n",
              "      <td>964982224</td>\n",
              "      <td>0</td>\n",
              "      <td>2</td>\n",
              "    </tr>\n",
              "    <tr>\n",
              "      <th>3</th>\n",
              "      <td>1</td>\n",
              "      <td>47</td>\n",
              "      <td>5.0</td>\n",
              "      <td>964983815</td>\n",
              "      <td>0</td>\n",
              "      <td>3</td>\n",
              "    </tr>\n",
              "    <tr>\n",
              "      <th>4</th>\n",
              "      <td>1</td>\n",
              "      <td>50</td>\n",
              "      <td>5.0</td>\n",
              "      <td>964982931</td>\n",
              "      <td>0</td>\n",
              "      <td>4</td>\n",
              "    </tr>\n",
              "    <tr>\n",
              "      <th>5</th>\n",
              "      <td>1</td>\n",
              "      <td>70</td>\n",
              "      <td>3.0</td>\n",
              "      <td>964982400</td>\n",
              "      <td>0</td>\n",
              "      <td>5</td>\n",
              "    </tr>\n",
              "    <tr>\n",
              "      <th>6</th>\n",
              "      <td>1</td>\n",
              "      <td>101</td>\n",
              "      <td>5.0</td>\n",
              "      <td>964980868</td>\n",
              "      <td>0</td>\n",
              "      <td>6</td>\n",
              "    </tr>\n",
              "    <tr>\n",
              "      <th>7</th>\n",
              "      <td>1</td>\n",
              "      <td>110</td>\n",
              "      <td>4.0</td>\n",
              "      <td>964982176</td>\n",
              "      <td>0</td>\n",
              "      <td>7</td>\n",
              "    </tr>\n",
              "    <tr>\n",
              "      <th>8</th>\n",
              "      <td>1</td>\n",
              "      <td>151</td>\n",
              "      <td>5.0</td>\n",
              "      <td>964984041</td>\n",
              "      <td>0</td>\n",
              "      <td>8</td>\n",
              "    </tr>\n",
              "    <tr>\n",
              "      <th>9</th>\n",
              "      <td>1</td>\n",
              "      <td>157</td>\n",
              "      <td>5.0</td>\n",
              "      <td>964984100</td>\n",
              "      <td>0</td>\n",
              "      <td>9</td>\n",
              "    </tr>\n",
              "  </tbody>\n",
              "</table>\n",
              "</div>\n",
              "      <button class=\"colab-df-convert\" onclick=\"convertToInteractive('df-c15387e6-146e-47b0-bf5c-1da88775a339')\"\n",
              "              title=\"Convert this dataframe to an interactive table.\"\n",
              "              style=\"display:none;\">\n",
              "        \n",
              "  <svg xmlns=\"http://www.w3.org/2000/svg\" height=\"24px\"viewBox=\"0 0 24 24\"\n",
              "       width=\"24px\">\n",
              "    <path d=\"M0 0h24v24H0V0z\" fill=\"none\"/>\n",
              "    <path d=\"M18.56 5.44l.94 2.06.94-2.06 2.06-.94-2.06-.94-.94-2.06-.94 2.06-2.06.94zm-11 1L8.5 8.5l.94-2.06 2.06-.94-2.06-.94L8.5 2.5l-.94 2.06-2.06.94zm10 10l.94 2.06.94-2.06 2.06-.94-2.06-.94-.94-2.06-.94 2.06-2.06.94z\"/><path d=\"M17.41 7.96l-1.37-1.37c-.4-.4-.92-.59-1.43-.59-.52 0-1.04.2-1.43.59L10.3 9.45l-7.72 7.72c-.78.78-.78 2.05 0 2.83L4 21.41c.39.39.9.59 1.41.59.51 0 1.02-.2 1.41-.59l7.78-7.78 2.81-2.81c.8-.78.8-2.07 0-2.86zM5.41 20L4 18.59l7.72-7.72 1.47 1.35L5.41 20z\"/>\n",
              "  </svg>\n",
              "      </button>\n",
              "      \n",
              "  <style>\n",
              "    .colab-df-container {\n",
              "      display:flex;\n",
              "      flex-wrap:wrap;\n",
              "      gap: 12px;\n",
              "    }\n",
              "\n",
              "    .colab-df-convert {\n",
              "      background-color: #E8F0FE;\n",
              "      border: none;\n",
              "      border-radius: 50%;\n",
              "      cursor: pointer;\n",
              "      display: none;\n",
              "      fill: #1967D2;\n",
              "      height: 32px;\n",
              "      padding: 0 0 0 0;\n",
              "      width: 32px;\n",
              "    }\n",
              "\n",
              "    .colab-df-convert:hover {\n",
              "      background-color: #E2EBFA;\n",
              "      box-shadow: 0px 1px 2px rgba(60, 64, 67, 0.3), 0px 1px 3px 1px rgba(60, 64, 67, 0.15);\n",
              "      fill: #174EA6;\n",
              "    }\n",
              "\n",
              "    [theme=dark] .colab-df-convert {\n",
              "      background-color: #3B4455;\n",
              "      fill: #D2E3FC;\n",
              "    }\n",
              "\n",
              "    [theme=dark] .colab-df-convert:hover {\n",
              "      background-color: #434B5C;\n",
              "      box-shadow: 0px 1px 3px 1px rgba(0, 0, 0, 0.15);\n",
              "      filter: drop-shadow(0px 1px 2px rgba(0, 0, 0, 0.3));\n",
              "      fill: #FFFFFF;\n",
              "    }\n",
              "  </style>\n",
              "\n",
              "      <script>\n",
              "        const buttonEl =\n",
              "          document.querySelector('#df-c15387e6-146e-47b0-bf5c-1da88775a339 button.colab-df-convert');\n",
              "        buttonEl.style.display =\n",
              "          google.colab.kernel.accessAllowed ? 'block' : 'none';\n",
              "\n",
              "        async function convertToInteractive(key) {\n",
              "          const element = document.querySelector('#df-c15387e6-146e-47b0-bf5c-1da88775a339');\n",
              "          const dataTable =\n",
              "            await google.colab.kernel.invokeFunction('convertToInteractive',\n",
              "                                                     [key], {});\n",
              "          if (!dataTable) return;\n",
              "\n",
              "          const docLinkHtml = 'Like what you see? Visit the ' +\n",
              "            '<a target=\"_blank\" href=https://colab.research.google.com/notebooks/data_table.ipynb>data table notebook</a>'\n",
              "            + ' to learn more about interactive tables.';\n",
              "          element.innerHTML = '';\n",
              "          dataTable['output_type'] = 'display_data';\n",
              "          await google.colab.output.renderOutput(dataTable, element);\n",
              "          const docLink = document.createElement('div');\n",
              "          docLink.innerHTML = docLinkHtml;\n",
              "          element.appendChild(docLink);\n",
              "        }\n",
              "      </script>\n",
              "    </div>\n",
              "  </div>\n",
              "  "
            ]
          },
          "metadata": {},
          "execution_count": 12
        }
      ]
    },
    {
      "cell_type": "code",
      "source": [
        "df.info()"
      ],
      "metadata": {
        "colab": {
          "base_uri": "https://localhost:8080/"
        },
        "id": "VCmqxYVA7hk9",
        "outputId": "ee4501f1-15ce-4946-e2cc-9be868e4427f"
      },
      "execution_count": 13,
      "outputs": [
        {
          "output_type": "stream",
          "name": "stdout",
          "text": [
            "<class 'pandas.core.frame.DataFrame'>\n",
            "RangeIndex: 100836 entries, 0 to 100835\n",
            "Data columns (total 6 columns):\n",
            " #   Column     Non-Null Count   Dtype  \n",
            "---  ------     --------------   -----  \n",
            " 0   userId     100836 non-null  int64  \n",
            " 1   movieId    100836 non-null  int64  \n",
            " 2   rating     100836 non-null  float32\n",
            " 3   timestamp  100836 non-null  int64  \n",
            " 4   user       100836 non-null  int64  \n",
            " 5   movie      100836 non-null  int64  \n",
            "dtypes: float32(1), int64(5)\n",
            "memory usage: 4.2 MB\n"
          ]
        }
      ]
    },
    {
      "cell_type": "code",
      "source": [
        "# examine the rating counts\n",
        "plt.figure(figsize=(13,8))\n",
        "plt.hist(df['rating'])\n",
        "plt.xlabel('Ratings')\n",
        "plt.ylabel('Count')\n",
        "plt.title('Rating Count')\n",
        "plt.show()"
      ],
      "metadata": {
        "colab": {
          "base_uri": "https://localhost:8080/",
          "height": 513
        },
        "id": "gUMAHdn-7pNZ",
        "outputId": "68d4f8de-0ee9-4289-bb4f-f02d4aeae524"
      },
      "execution_count": 14,
      "outputs": [
        {
          "output_type": "display_data",
          "data": {
            "text/plain": [
              "<Figure size 936x576 with 1 Axes>"
            ],
            "image/png": "[encoded data removed]"
          },
          "metadata": {
            "needs_background": "light"
          }
        }
      ]
    },
    {
      "cell_type": "code",
      "source": [
        "# return a random of samples of the dataframe\n",
        "df = df.sample(frac=1, random_state=42)"
      ],
      "metadata": {
        "id": "HgqqpdVY7wU6"
      },
      "execution_count": 15,
      "outputs": []
    },
    {
      "cell_type": "code",
      "source": [
        "# create x and y values from the dataframe\n",
        "x = df[['user', 'movie']].values\n",
        "y = df['rating'].apply(lambda x: (x - min_rating) / (max_rating - min_rating)).values"
      ],
      "metadata": {
        "id": "NQSLuIsU70Xy"
      },
      "execution_count": 16,
      "outputs": []
    },
    {
      "cell_type": "code",
      "source": [
        "# use 70% of the data for training\n",
        "train_indices = int(0.7 * df.shape[0])"
      ],
      "metadata": {
        "id": "dF6fY-R976Pg"
      },
      "execution_count": 17,
      "outputs": []
    },
    {
      "cell_type": "code",
      "source": [
        "# set up the data for training and validation\n",
        "x_train, x_val, y_train, y_val = (\n",
        "    x[:train_indices],\n",
        "    x[train_indices:],\n",
        "    y[:train_indices],\n",
        "    y[train_indices:]\n",
        ")"
      ],
      "metadata": {
        "id": "0oZ19pPe7-Q3"
      },
      "execution_count": 18,
      "outputs": []
    },
    {
      "cell_type": "code",
      "source": [
        "# embed users and movies into vectors\n",
        "# the match score is computed between the users movies by a dot product\n",
        "# the match score is scale to 0 - 1 interval by a sigmoid\n",
        "\n",
        "# n-dimensional vector, n = 50 in this case\n",
        "embedding = 50\n",
        "\n",
        "class MovieRecommender(keras.Model):\n",
        "    \n",
        "    def __init__(self, num_users, num_movies, embedding, **kwargs):\n",
        "        super(MovieRecommender, self).__init__(**kwargs)\n",
        "        self.num_users = num_users\n",
        "        self.num_movies = num_movies\n",
        "        self.embedding = embedding\n",
        "        self.user_embedding = layers.Embedding(num_users, embedding, embeddings_initializer=\"he_normal\", embeddings_regularizer=keras.regularizers.l2(1e-6))\n",
        "        self.user_bias = layers.Embedding(num_users, 1)\n",
        "        self.movie_embedding = layers.Embedding(num_movies, embedding, embeddings_initializer=\"he_normal\", embeddings_regularizer=keras.regularizers.l2(1e-6))\n",
        "        self.movie_bias = layers.Embedding(num_movies, 1)\n",
        "    \n",
        "    def call(self, inputs):\n",
        "        user_vector = self.user_embedding(inputs[:,0])\n",
        "        user_bias = self.user_bias(inputs[:,0])\n",
        "        movie_vector = self.movie_embedding(inputs[:,1])\n",
        "        movie_bias = self.movie_bias(inputs[:,1])\n",
        "        d_user_movie = tf.tensordot(user_vector, movie_vector, 2)\n",
        "        \n",
        "        # add the user bias, movie bias and the dot product\n",
        "        x = user_bias + movie_bias + d_user_movie \n",
        "        \n",
        "        # the rating is between 0 and 1\n",
        "        return tf.nn.sigmoid(x)"
      ],
      "metadata": {
        "id": "uUSBZebi8Dth"
      },
      "execution_count": 19,
      "outputs": []
    },
    {
      "cell_type": "code",
      "source": [
        "# create a model with number of users, movies and n-dimensional vector\n",
        "model = MovieRecommender(num_users, num_movies, embedding)\n",
        "\n",
        "# compile the model\n",
        "model.compile(loss=tf.keras.losses.BinaryCrossentropy(), optimizer=keras.optimizers.Adam(lr=0.001))"
      ],
      "metadata": {
        "id": "us8w17E68KGh"
      },
      "execution_count": 20,
      "outputs": []
    },
    {
      "cell_type": "code",
      "source": [
        "# train the model\n",
        "history = model.fit(x=x_train, y=y_train, batch_size=64, epochs=10, verbose=1, validation_data=(x_val, y_val))"
      ],
      "metadata": {
        "colab": {
          "base_uri": "https://localhost:8080/"
        },
        "id": "mIS3jni58YTZ",
        "outputId": "5e04cc9d-a1ea-4dc3-efac-53ad1af572fb"
      },
      "execution_count": 21,
      "outputs": [
        {
          "output_type": "stream",
          "name": "stdout",
          "text": [
            "Epoch 1/10\n",
            "1103/1103 [==============================] - 8s 5ms/step - loss: 0.6409 - val_loss: 0.6208\n",
            "Epoch 2/10\n",
            "1103/1103 [==============================] - 5s 5ms/step - loss: 0.6164 - val_loss: 0.6232\n",
            "Epoch 3/10\n",
            "1103/1103 [==============================] - 5s 5ms/step - loss: 0.6104 - val_loss: 0.6148\n",
            "Epoch 4/10\n",
            "1103/1103 [==============================] - 5s 5ms/step - loss: 0.6080 - val_loss: 0.6132\n",
            "Epoch 5/10\n",
            "1103/1103 [==============================] - 6s 6ms/step - loss: 0.6068 - val_loss: 0.6110\n",
            "Epoch 6/10\n",
            "1103/1103 [==============================] - 5s 5ms/step - loss: 0.6065 - val_loss: 0.6112\n",
            "Epoch 7/10\n",
            "1103/1103 [==============================] - 5s 5ms/step - loss: 0.6066 - val_loss: 0.6092\n",
            "Epoch 8/10\n",
            "1103/1103 [==============================] - 5s 5ms/step - loss: 0.6051 - val_loss: 0.6106\n",
            "Epoch 9/10\n",
            "1103/1103 [==============================] - 5s 5ms/step - loss: 0.6051 - val_loss: 0.6089\n",
            "Epoch 10/10\n",
            "1103/1103 [==============================] - 5s 5ms/step - loss: 0.6044 - val_loss: 0.6093\n"
          ]
        }
      ]
    },
    {
      "cell_type": "code",
      "source": [
        "# plot the training and validation data\n",
        "\n",
        "plt.figure(figsize=(13,8))\n",
        "plt.plot(history.history['loss'])\n",
        "plt.plot(history.history['val_loss'])\n",
        "plt.xlabel('Epochs')\n",
        "plt.ylabel('Loss')\n",
        "plt.title('Loss of the model')\n",
        "plt.legend(['train', 'test'], loc='upper right')\n",
        "plt.show()"
      ],
      "metadata": {
        "colab": {
          "base_uri": "https://localhost:8080/",
          "height": 513
        },
        "id": "t5DzfX299mkk",
        "outputId": "4da06a7a-0434-473c-eaa7-ddc823f6c6cd"
      },
      "execution_count": 22,
      "outputs": [
        {
          "output_type": "display_data",
          "data": {
            "text/plain": [
              "<Figure size 936x576 with 1 Axes>"
            ],
            "image/png": "[encoded data removed]"
          },
          "metadata": {
            "needs_background": "light"
          }
        }
      ]
    },
    {
      "cell_type": "code",
      "source": [
        "# load the dataset\n",
        "movie_df = pd.read_csv('movies.csv')"
      ],
      "metadata": {
        "id": "60IWEG449uPI"
      },
      "execution_count": 23,
      "outputs": []
    },
    {
      "cell_type": "code",
      "source": [
        "# pick a user and see the recommendations\n",
        "user_id = df.userId.sample(1).iloc[0]\n",
        "movies_user_watched = df[df.userId == user_id]\n",
        "movies_user_not_watched = movie_df[movie_df['movieId'].isin(movies_user_watched.movieId.values)]['movieId']\n",
        "movies_user_not_watched = list(set(movies_user_not_watched).intersection(set(movie_to_movie_encoded.keys())))\n",
        "movies_user_not_watched = [[movie_to_movie_encoded.get(x)] for x in movies_user_not_watched]\n",
        "user_encoder = user_to_user_encoded.get(user_id)\n",
        "user_movie_array = np.hstack(([[user_encoder]] * len(movies_user_not_watched), movies_user_not_watched))\n",
        "\n",
        "ratings = model.predict(user_movie_array).flatten()\n",
        "top_ratings = ratings.argsort()[-10:][::-1]\n",
        "\n",
        "recommend_movies_id = [movie_encoded_to_movie.get(movies_user_not_watched[x][0]) for x in top_ratings]\n",
        "\n",
        "print(\"Recommended Movies for user: {}\".format(user_id))\n",
        "print('\\n')\n",
        "print('Highly Rated Movies by user')\n",
        "print('\\n')\n",
        "top_movies_rated = (movies_user_watched.sort_values(by='rating', ascending=False).head(5).movieId.values)\n",
        "movie_rows = movie_df[movie_df['movieId'].isin(top_movies_rated)]\n",
        "\n",
        "for row in movie_rows.itertuples():\n",
        "    print(row.title, \"-\", row.genres)\n",
        "    \n",
        "print('\\n')\n",
        "print('Top 10 Recommended Movies')\n",
        "print('\\n')\n",
        "recommended_movies = movie_df[movie_df['movieId'].isin(recommend_movies_id)]\n",
        "for row in recommended_movies.itertuples():\n",
        "    print(row.title, \"-\", row.genres)"
      ],
      "metadata": {
        "colab": {
          "base_uri": "https://localhost:8080/"
        },
        "id": "6xQ3EfVI97EB",
        "outputId": "cf73fe4a-3028-43e3-ae23-53bdff37392c"
      },
      "execution_count": 27,
      "outputs": [
        {
          "output_type": "stream",
          "name": "stdout",
          "text": [
            "Recommended Movies for user: 96\n",
            "\n",
            "\n",
            "Highly Rated Movies by user\n",
            "\n",
            "\n",
            "Terminator 2: Judgment Day (1991) - Action|Sci-Fi\n",
            "Aliens (1986) - Action|Adventure|Horror|Sci-Fi\n",
            "L.A. Confidential (1997) - Crime|Film-Noir|Mystery|Thriller\n",
            "Commitments, The (1991) - Comedy|Drama|Musical\n",
            "Thelma & Louise (1991) - Adventure|Crime|Drama\n",
            "\n",
            "\n",
            "Top 10 Recommended Movies\n",
            "\n",
            "\n",
            "Usual Suspects, The (1995) - Crime|Mystery|Thriller\n",
            "Star Wars: Episode IV - A New Hope (1977) - Action|Adventure|Sci-Fi\n",
            "Pulp Fiction (1994) - Comedy|Crime|Drama|Thriller\n",
            "Schindler's List (1993) - Drama|War\n",
            "Godfather, The (1972) - Crime|Drama\n",
            "Reservoir Dogs (1992) - Crime|Mystery|Thriller\n",
            "Raiders of the Lost Ark (Indiana Jones and the Raiders of the Lost Ark) (1981) - Action|Adventure\n",
            "Godfather: Part II, The (1974) - Crime|Drama\n",
            "Saving Private Ryan (1998) - Action|Drama|War\n",
            "Matrix, The (1999) - Action|Sci-Fi|Thriller\n"
          ]
        }
      ]
    }
  ]
}